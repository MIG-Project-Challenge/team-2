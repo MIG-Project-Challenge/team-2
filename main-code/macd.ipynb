{
 "cells": [
  {
   "cell_type": "code",
   "execution_count": null,
   "metadata": {},
   "outputs": [],
   "source": [
    "import talib as ta\n",
    "import pandas as pd\n",
    "import numpy as np"
   ]
  },
  {
   "cell_type": "code",
   "execution_count": null,
   "metadata": {},
   "outputs": [],
   "source": [
    "# read the data from the CSV files\n",
    "train_data = pd.read_csv('train_data_50.csv') \n",
    "\n",
    "# change date into datetime objects\n",
    "train_data['Date'] = pd.to_datetime(train_data['Date'])\n",
    "\n",
    "# set indexes \n",
    "train_data.set_index([\"Ticker\", \"Date\"], inplace=True)\n",
    "\n",
    "# sort data by tickers\n",
    "tickers = sorted(train_data.index.get_level_values('Ticker').unique())"
   ]
  },
  {
   "cell_type": "code",
   "execution_count": null,
   "metadata": {},
   "outputs": [],
   "source": [
    "#create array of close prices \n",
    "tickers = sorted(train_data.index.get_level_values('Ticker').unique())\n",
    "\n",
    "open_prices = []\n",
    "\n",
    "for ticker in tickers:\n",
    "    stock_close_data = train_data.loc[ticker][\"Open\"]\n",
    "    open_prices.append(stock_close_data.values)\n",
    "\n",
    "open_prices = np.stack(open_prices)\n",
    "print(open_prices.shape)\n",
    "print(open_prices)\n",
    "\n",
    "# array for final return - trades\n",
    "trades = np.zeros_like(open_prices)\n",
    "trades\n"
   ]
  },
  {
   "cell_type": "code",
   "execution_count": null,
   "metadata": {},
   "outputs": [],
   "source": [
    "\n",
    "for stock in range(len(open_prices)):\n",
    "    #we might have to use open data as the first paramter\n",
    "\n",
    "    macd = ta.MACD(stock-stock_close_data, fastperiod=12, slowperiod=26, signalperiod=9)\n",
    "    signal_line = ta.signal(stock-stock_close_data, signalperiod = 9)\n",
    "\n",
    "    #if macd crossed above signal line then buy, vice versa sell\n",
    "    for day in range(1, len(open_prices[0]) - 1):\n",
    "        if macd[day] > signal_line[day] and macd[day - 1] <= signal_line[day - 1]:\n",
    "            trades[stock][day + 1] = -1  # Buy signal\n",
    "        elif macd[day] < signal_line[day] and macd[day - 1] >= signal_line[day - 1]:\n",
    "            trades[stock][day + 1] = 1  # Sell signal\n",
    "        else:\n",
    "            trades[stock][day+1] = 0\n"
   ]
  }
 ],
 "metadata": {
  "language_info": {
   "name": "python"
  },
  "orig_nbformat": 4
 },
 "nbformat": 4,
 "nbformat_minor": 2
}
