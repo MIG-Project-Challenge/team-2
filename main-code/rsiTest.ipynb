{
 "cells": [
  {
   "cell_type": "code",
   "execution_count": 3,
   "metadata": {},
   "outputs": [
    {
     "name": "stdout",
     "output_type": "stream",
     "text": [
      "Collecting ta-lib\n",
      "  Using cached TA-Lib-0.4.28.tar.gz (357 kB)\n",
      "  Installing build dependencies ... \u001b[?25ldone\n",
      "\u001b[?25h  Getting requirements to build wheel ... \u001b[?25ldone\n",
      "\u001b[?25h  Installing backend dependencies ... \u001b[?25ldone\n",
      "\u001b[?25h  Preparing metadata (pyproject.toml) ... \u001b[?25ldone\n",
      "\u001b[?25hRequirement already satisfied: numpy in ./.conda/lib/python3.10/site-packages (from ta-lib) (1.26.1)\n",
      "Building wheels for collected packages: ta-lib\n",
      "  Building wheel for ta-lib (pyproject.toml) ... \u001b[?25ldone\n",
      "\u001b[?25h  Created wheel for ta-lib: filename=TA_Lib-0.4.28-cp310-cp310-macosx_10_9_x86_64.whl size=407301 sha256=c20a4efac3dfc812634e701f7fdc88a36f90d6c34c258ee8e12517e278624667\n",
      "  Stored in directory: /Users/anwesha/Library/Caches/pip/wheels/66/54/9d/10bfd00931c0c993f373269d350635df520b5064e5290a9d94\n",
      "Successfully built ta-lib\n",
      "Installing collected packages: ta-lib\n",
      "Successfully installed ta-lib-0.4.28\n"
     ]
    }
   ],
   "source": [
    "! pip install ta-lib"
   ]
  },
  {
   "cell_type": "code",
   "execution_count": 4,
   "metadata": {},
   "outputs": [],
   "source": [
    "import talib as ta\n",
    "import pandas as pd\n",
    "import numpy as np"
   ]
  },
  {
   "cell_type": "code",
   "execution_count": 5,
   "metadata": {},
   "outputs": [],
   "source": [
    "# read the data from the CSV files\n",
    "train_data = pd.read_csv('train_data_50.csv') \n",
    "\n",
    "# change date into datetime objects\n",
    "train_data['Date'] = pd.to_datetime(train_data['Date'])\n",
    "\n",
    "# set indexes \n",
    "train_data.set_index([\"Ticker\", \"Date\"], inplace=True)\n",
    "\n",
    "# sort data by tickers\n",
    "tickers = sorted(train_data.index.get_level_values('Ticker').unique())"
   ]
  },
  {
   "cell_type": "code",
   "execution_count": 6,
   "metadata": {},
   "outputs": [
    {
     "name": "stdout",
     "output_type": "stream",
     "text": [
      "(50, 1452)\n",
      "[[17.04294995 17.25096871 16.96448663 ... 67.35797313 68.06231506\n",
      "  68.62432851]\n",
      " [12.20377331 12.24209241 12.04319784 ... 27.93657064 28.10079496\n",
      "  28.43107009]\n",
      " [27.76139563 28.32888582 28.12086706 ... 45.28424827 45.45394932\n",
      "  45.20031238]\n",
      " ...\n",
      " [12.73111928 12.80593376 12.77856257 ... 40.5016405  40.69141088\n",
      "  40.9340999 ]\n",
      " [ 8.02149948  8.0908393   8.10908629 ... 45.21855798 46.12362377\n",
      "  46.14186937]\n",
      " [20.12126341 20.38584965 20.38584965 ... 57.08475709 57.0592138\n",
      "  57.54641278]]\n"
     ]
    },
    {
     "data": {
      "text/plain": [
       "array([[0., 0., 0., ..., 0., 0., 0.],\n",
       "       [0., 0., 0., ..., 0., 0., 0.],\n",
       "       [0., 0., 0., ..., 0., 0., 0.],\n",
       "       ...,\n",
       "       [0., 0., 0., ..., 0., 0., 0.],\n",
       "       [0., 0., 0., ..., 0., 0., 0.],\n",
       "       [0., 0., 0., ..., 0., 0., 0.]])"
      ]
     },
     "execution_count": 6,
     "metadata": {},
     "output_type": "execute_result"
    }
   ],
   "source": [
    "# array of all stocks and close prices for RSI\n",
    "open_prices = []\n",
    "\n",
    "for ticker in tickers:\n",
    "    stock_close_data = train_data.loc[ticker][\"Open\"]\n",
    "    open_prices.append(stock_close_data.values)\n",
    "\n",
    "open_prices = np.stack(open_prices)\n",
    "print(open_prices.shape)\n",
    "print(open_prices)\n",
    "\n",
    "# array for final return - trades\n",
    "trades = np.zeros_like(open_prices)\n",
    "trades"
   ]
  },
  {
   "cell_type": "code",
   "execution_count": 7,
   "metadata": {},
   "outputs": [],
   "source": [
    "# actually calculate RSI value\n",
    "# if rsi > 70 the stock is overbought, if rsi < 30 the stock is underbought\n",
    "for stock in range(len(open_prices)):\n",
    "    talib_rsi = ta.RSI(stock-stock_close_data, timeperiod=14)\n",
    "    for day in range(1, len(open_prices[0])-1):\n",
    "        if talib_rsi > 70: # buy\n",
    "            trades[stock][day+1] = 1\n",
    "        elif talib_rsi < 30: # sell/short\n",
    "            trades[stock][day+1] = -1\n",
    "        else: # do nothing\n",
    "            trades[stock][day+1] = 0\n",
    "        "
   ]
  },
  {
   "cell_type": "code",
   "execution_count": null,
   "metadata": {},
   "outputs": [],
   "source": [
    "from eval_algo import eval_actions\n",
    "\n",
    "portfolio_value, sharpe_ratio = eval_actions(trades, open_prices, cash=25000, verbose=True)\n",
    "print(f\"\\nPortfolio value: {portfolio_value}\")\n",
    "print(f\"Sharpe ratio: {sharpe_ratio}\")"
   ]
  }
 ],
 "metadata": {
  "kernelspec": {
   "display_name": "Python 3",
   "language": "python",
   "name": "python3"
  },
  "language_info": {
   "codemirror_mode": {
    "name": "ipython",
    "version": 3
   },
   "file_extension": ".py",
   "mimetype": "text/x-python",
   "name": "python",
   "nbconvert_exporter": "python",
   "pygments_lexer": "ipython3",
   "version": "3.10.13"
  }
 },
 "nbformat": 4,
 "nbformat_minor": 2
}
