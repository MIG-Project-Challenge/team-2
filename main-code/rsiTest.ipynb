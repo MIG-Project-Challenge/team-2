{
 "cells": [
  {
   "cell_type": "code",
   "execution_count": 2,
   "metadata": {},
   "outputs": [],
   "source": [
    "import talib as ta\n",
    "import pandas as pd\n",
    "import numpy as np"
   ]
  },
  {
   "cell_type": "code",
   "execution_count": null,
   "metadata": {},
   "outputs": [],
   "source": []
  },
  {
   "cell_type": "code",
   "execution_count": null,
   "metadata": {},
   "outputs": [],
   "source": []
  },
  {
   "cell_type": "code",
   "execution_count": 5,
   "metadata": {},
   "outputs": [],
   "source": [
    "# read the data from the CSV files\n",
    "train_data = pd.read_csv('train_data_50.csv') \n",
    "\n",
    "# change date into datetime objects\n",
    "train_data['Date'] = pd.to_datetime(train_data['Date'])\n",
    "\n",
    "# set indexes \n",
    "train_data.set_index([\"Ticker\", \"Date\"], inplace=True)\n",
    "\n",
    "# sort data by tickers\n",
    "tickers = sorted(train_data.index.get_level_values('Ticker').unique())"
   ]
  },
  {
   "cell_type": "code",
   "execution_count": 6,
   "metadata": {},
   "outputs": [
    {
     "name": "stdout",
     "output_type": "stream",
     "text": [
      "(50, 1452)\n",
      "[[17.04294995 17.25096871 16.96448663 ... 67.35797313 68.06231506\n",
      "  68.62432851]\n",
      " [12.20377331 12.24209241 12.04319784 ... 27.93657064 28.10079496\n",
      "  28.43107009]\n",
      " [27.76139563 28.32888582 28.12086706 ... 45.28424827 45.45394932\n",
      "  45.20031238]\n",
      " ...\n",
      " [12.73111928 12.80593376 12.77856257 ... 40.5016405  40.69141088\n",
      "  40.9340999 ]\n",
      " [ 8.02149948  8.0908393   8.10908629 ... 45.21855798 46.12362377\n",
      "  46.14186937]\n",
      " [20.12126341 20.38584965 20.38584965 ... 57.08475709 57.0592138\n",
      "  57.54641278]]\n"
     ]
    }
   ],
   "source": [
    "# array of all stocks and close prices for RSI\n",
    "open_prices = []\n",
    "\n",
    "for ticker in tickers:\n",
    "    stock_close_data = train_data.loc[ticker][\"Open\"]\n",
    "    open_prices.append(stock_close_data.values)\n",
    "\n",
    "open_prices = np.stack(open_prices)\n",
    "print(open_prices.shape)\n",
    "print(open_prices)\n",
    "\n",
    "# array for final return - trades\n",
    "trades = np.zeros_like(open_prices)\n",
    "trades\n",
    "\n",
    "cash = 25000"
   ]
  },
  {
   "cell_type": "code",
   "execution_count": 7,
   "metadata": {},
   "outputs": [
    {
     "name": "stdout",
     "output_type": "stream",
     "text": [
      "25020.385849654664\n"
     ]
    }
   ],
   "source": [
    "cash += open_prices [49][1]\n",
    "print(cash)"
   ]
  },
  {
   "cell_type": "code",
   "execution_count": 91,
   "metadata": {},
   "outputs": [
    {
     "name": "stderr",
     "output_type": "stream",
     "text": [
      "/var/folders/5h/dq1rq3ts62j1zt97ddbg3jbc0000gn/T/ipykernel_7438/655431136.py:7: FutureWarning: Series.__getitem__ treating keys as positions is deprecated. In a future version, integer keys will always be treated as labels (consistent with DataFrame behavior). To access a value by position, use `ser.iloc[pos]`\n",
      "  if talib_rsi[day] < 30: # buy\n",
      "/var/folders/5h/dq1rq3ts62j1zt97ddbg3jbc0000gn/T/ipykernel_7438/655431136.py:9: FutureWarning: Series.__getitem__ treating keys as positions is deprecated. In a future version, integer keys will always be treated as labels (consistent with DataFrame behavior). To access a value by position, use `ser.iloc[pos]`\n",
      "  elif talib_rsi[day] > 70: # sell/short\n"
     ]
    }
   ],
   "source": [
    "# actually calculate RSI value\n",
    "# if rsi > 70 the stock is overbought, if rsi < 30 the stock is underbought\n",
    "for stock in range(len(open_prices)):\n",
    "    talib_rsi = ta.RSI(stock-stock_close_data, timeperiod=40)\n",
    "\n",
    "    for day in range(1, len(open_prices[0])-1):\n",
    "        if talib_rsi[day] < 30: # buy\n",
    "            trades[stock][day+1] = 1\n",
    "        elif talib_rsi[day] > 70: # sell/short\n",
    "            trades[stock][day+1] = -1\n",
    "        else: # do nothing\n",
    "            trades[stock][day+1] = 0"
   ]
  },
  {
   "cell_type": "code",
   "execution_count": 90,
   "metadata": {},
   "outputs": [
    {
     "name": "stdout",
     "output_type": "stream",
     "text": [
      "INVALID CASH AMOUNT, COULD NOT AFFORD TRANSACTION\n",
      "\n",
      "Portfolio value: 0\n",
      "Sharpe ratio: 0\n"
     ]
    }
   ],
   "source": [
    "from eval_algo import eval_actions\n",
    "\n",
    "portfolio_value, sharpe_ratio = eval_actions(trades, open_prices, cash=25000, verbose=True)\n",
    "print(f\"\\nPortfolio value: {portfolio_value}\")\n",
    "print(f\"Sharpe ratio: {sharpe_ratio}\")"
   ]
  }
 ],
 "metadata": {
  "kernelspec": {
   "display_name": "Python 3",
   "language": "python",
   "name": "python3"
  },
  "language_info": {
   "codemirror_mode": {
    "name": "ipython",
    "version": 3
   },
   "file_extension": ".py",
   "mimetype": "text/x-python",
   "name": "python",
   "nbconvert_exporter": "python",
   "pygments_lexer": "ipython3",
   "version": "3.10.13"
  }
 },
 "nbformat": 4,
 "nbformat_minor": 2
}
