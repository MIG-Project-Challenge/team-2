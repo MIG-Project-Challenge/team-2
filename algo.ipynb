{
 "cells": [
  {
   "cell_type": "code",
   "execution_count": null,
   "metadata": {},
   "outputs": [],
   "source": [
    "from collections import defaultdict\n",
    "import numpy as np\n",
    "from pathlib import Path\n",
    "import argparse\n",
    "import talib as ta\n",
    "import glob\n",
    "import pandas as pd"
   ]
  },
  {
   "cell_type": "code",
   "execution_count": null,
   "metadata": {},
   "outputs": [],
   "source": [
    "train_data = pd.read_csv('train_data_50.csv')\n",
    "# change date into datetime objects\n",
    "train_data['Date'] = pd.to_datetime(train_data['Date'])\n",
    "\n",
    "# set indexes \n",
    "train_data.set_index([\"Ticker\", \"Date\"], inplace=True)\n",
    "tickers = sorted(train_data.index.get_level_values('Ticker').unique())\n",
    "\n",
    "open_prices = []"
   ]
  },
  {
   "cell_type": "code",
   "execution_count": null,
   "metadata": {},
   "outputs": [],
   "source": [
    "train_data"
   ]
  },
  {
   "cell_type": "code",
   "execution_count": null,
   "metadata": {},
   "outputs": [],
   "source": [
    "# numpy array of all stocks and their close prices\n",
    "for ticker in tickers:\n",
    "    stock_close_data = train_data.loc[ticker][\"Open\"]\n",
    "    open_prices.append(stock_close_data.values)\n",
    "\n",
    "open_prices = np.stack(open_prices)\n",
    "print(stock_close_data)\n",
    "print(open_prices.shape)\n",
    "print(open_prices)\n",
    "\n",
    "# empty array for trades\n",
    "trades = np.zeros_like(open_prices)\n",
    "trades\n",
    "\n",
    "\n",
    "\n",
    "print(trades)"
   ]
  },
  {
   "cell_type": "code",
   "execution_count": null,
   "metadata": {},
   "outputs": [],
   "source": [
    "\n",
    "for ticker in tickers:\n",
    "    n = ta.AD(train_data.loc['ZJ'][\"High\"], train_data.loc['ZJ'][\"Low\"], train_data.loc['ZJ'][\"Close\"], train_data.loc['ZJ'][\"Volume\"])\n",
    "    plt.plot(n.index,n.values, label=f'{ticker}')\n",
    "\n",
    "\n",
    "plt.xlabel('Date')\n",
    "plt.ylabel('Price')\n",
    "plt.title('Stock Prices')\n",
    "plt.legend()\n",
    "plt.show()\n",
    "\n"
   ]
  }
 ],
 "metadata": {
  "kernelspec": {
   "display_name": "Python 3",
   "language": "python",
   "name": "python3"
  },
  "language_info": {
   "codemirror_mode": {
    "name": "ipython",
    "version": 3
   },
   "file_extension": ".py",
   "mimetype": "text/x-python",
   "name": "python",
   "nbconvert_exporter": "python",
   "pygments_lexer": "ipython3",
   "version": "3.10.13"
  }
 },
 "nbformat": 4,
 "nbformat_minor": 2
}
